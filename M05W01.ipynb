{
  "nbformat": 4,
  "nbformat_minor": 0,
  "metadata": {
    "colab": {
      "provenance": [],
      "authorship_tag": "ABX9TyORJbFZtg14DehUl8lYY0WS",
      "include_colab_link": true
    },
    "kernelspec": {
      "name": "python3",
      "display_name": "Python 3"
    },
    "language_info": {
      "name": "python"
    }
  },
  "cells": [
    {
      "cell_type": "markdown",
      "metadata": {
        "id": "view-in-github",
        "colab_type": "text"
      },
      "source": [
        "<a href=\"https://colab.research.google.com/github/hoangducdungvn/AIO-Excersice/blob/main/M05W01.ipynb\" target=\"_parent\"><img src=\"https://colab.research.google.com/assets/colab-badge.svg\" alt=\"Open In Colab\"/></a>"
      ]
    },
    {
      "cell_type": "code",
      "source": [
        "import pandas as pd\n",
        "import numpy as np\n",
        "import builtins\n",
        "\n",
        "import matplotlib.pyplot as plt\n",
        "\n",
        "from sklearn.model_selection import train_test_split\n",
        "from sklearn.preprocessing import StandardScaler"
      ],
      "metadata": {
        "id": "uE9BLb-yTRPs"
      },
      "execution_count": null,
      "outputs": []
    },
    {
      "cell_type": "code",
      "source": [
        "dataset_path = 'titanic_modified_dataset.csv'\n",
        "df = pd.read_csv(\n",
        "    dataset_path,\n",
        "    index_col='PassengerId'\n",
        ")"
      ],
      "metadata": {
        "id": "UlCXu0d1ULyo"
      },
      "execution_count": null,
      "outputs": []
    },
    {
      "cell_type": "code",
      "source": [
        "dataset_arr = df.to_numpy().astype(np.float64)\n",
        "X,y = dataset_arr[:, :-1], dataset_arr[:,-1]"
      ],
      "metadata": {
        "id": "-lZM7NXkUyiI"
      },
      "execution_count": null,
      "outputs": []
    },
    {
      "cell_type": "code",
      "source": [
        "intercept = np.ones((\n",
        "    X.shape[0],1)\n",
        ")\n",
        "X_b = np.concatenate((intercept, X), axis=1)"
      ],
      "metadata": {
        "id": "r2OaarYlVIPY"
      },
      "execution_count": null,
      "outputs": []
    },
    {
      "cell_type": "code",
      "source": [
        "val_size = 0.2\n",
        "test_size = 0.125\n",
        "random_state = 2\n",
        "is_shuffle = True\n",
        "\n",
        "X_train, X_val, y_train, y_val = train_test_split(\n",
        "    X_b, y,\n",
        "    test_size=val_size,\n",
        "    random_state=random_state,\n",
        "    shuffle=is_shuffle\n",
        ")\n",
        "\n",
        "X_train, X_test, y_train, y_test = train_test_split(\n",
        "    X_train, y_train,\n",
        "    test_size=test_size,\n",
        "    random_state=random_state,\n",
        "    shuffle=is_shuffle\n",
        ")"
      ],
      "metadata": {
        "id": "ixLp1HOgVgDW"
      },
      "execution_count": null,
      "outputs": []
    },
    {
      "cell_type": "code",
      "source": [
        "normalizer = StandardScaler()\n",
        "X_train[:, 1:] = normalizer.fit_transform(X_train[:, 1:])\n",
        "X_val[:, 1:] = normalizer.transform(X_val[:, 1:])\n",
        "X_test[:, 1:] = normalizer.transform(X_test[:, 1:])"
      ],
      "metadata": {
        "id": "A6rQVaduWKzL"
      },
      "execution_count": null,
      "outputs": []
    },
    {
      "cell_type": "code",
      "source": [
        "# ham sigmoid\n",
        "def sigmoid(z):\n",
        "  return 1/ (1+np.exp(-z))"
      ],
      "metadata": {
        "id": "WiFA2urNWs0n"
      },
      "execution_count": null,
      "outputs": []
    },
    {
      "cell_type": "code",
      "source": [
        "def predict(X, theta):\n",
        "  dot_product = np.dot(X, theta)\n",
        "  y_hat = sigmoid(dot_product)\n",
        "\n",
        "  return y_hat"
      ],
      "metadata": {
        "id": "P8NOKGOBWyF0"
      },
      "execution_count": null,
      "outputs": []
    },
    {
      "cell_type": "code",
      "source": [
        "def compute_loss(y_hat,y):\n",
        "  y_hat = np.clip(\n",
        "      y_hat,\n",
        "      1e-7,\n",
        "      1-1e-7\n",
        "  )\n",
        "\n",
        "  return (\n",
        "      -y * \\\n",
        "      np.log(y_hat) - (1-y) * \\\n",
        "      np.log(1-y_hat)\n",
        "  ).mean()"
      ],
      "metadata": {
        "id": "P40OXhotXTZC"
      },
      "execution_count": null,
      "outputs": []
    },
    {
      "cell_type": "code",
      "source": [
        "def compute_gradient(X, y, y_hat):\n",
        "  return np.dot(\n",
        "      X.T, (y_hat-y)\n",
        "  ) / y.size"
      ],
      "metadata": {
        "id": "TcymDw0rX4IS"
      },
      "execution_count": null,
      "outputs": []
    },
    {
      "cell_type": "code",
      "source": [
        "def update_theta(theta, gradient, lr):\n",
        "  return theta - lr * gradient"
      ],
      "metadata": {
        "id": "oOf8aY7pYNLE"
      },
      "execution_count": null,
      "outputs": []
    },
    {
      "cell_type": "code",
      "source": [
        "def compute_accuracy(X,y,theta):\n",
        "  y_hat = predict(X, theta).round()\n",
        "  acc = (y_hat == y).mean()\n",
        "\n",
        "  return acc"
      ],
      "metadata": {
        "id": "0B2Sb3CVYiOb"
      },
      "execution_count": null,
      "outputs": []
    },
    {
      "cell_type": "code",
      "source": [
        "# khai bao cac sieu tham so va khoi tao weight\n",
        "lr = 0.01\n",
        "epochs = 100\n",
        "batch_size = 16\n",
        "\n",
        "np.random.seed(random_state)\n",
        "theta = np.random.uniform(size = X_train.shape[1])"
      ],
      "metadata": {
        "id": "4aOGCh6QZaFb"
      },
      "execution_count": null,
      "outputs": []
    },
    {
      "cell_type": "code",
      "source": [
        "train_accs = []\n",
        "train_losses = []\n",
        "val_accs = []\n",
        "val_losses = []\n",
        "\n",
        "for epoch in range(epochs):\n",
        "  train_batch_losses = []\n",
        "  train_batch_accs = []\n",
        "  val_batch_losses = []\n",
        "  val_batch_accs = []\n",
        "\n",
        "  for i in range(0, X_train.shape[0], batch_size):\n",
        "    X_i = X_train[i:i+batch_size]\n",
        "    y_i = y_train[i:i+batch_size]\n",
        "\n",
        "    y_hat = predict(X_i, theta)\n",
        "\n",
        "    train_loss = compute_loss(y_hat, y_i)\n",
        "\n",
        "    gradient = compute_gradient(X_i, y_i, y_hat)\n",
        "\n",
        "    theta = update_theta(theta, gradient, lr)\n",
        "\n",
        "    train_batch_losses.append(train_loss)\n",
        "\n",
        "    train_acc = compute_accuracy(X_train, y_train, theta)\n",
        "    train_batch_accs.append(train_acc)\n",
        "\n",
        "    y_val_hat = predict(X_val, theta)\n",
        "    val_loss = compute_loss(y_val_hat, y_val)\n",
        "    val_batch_losses.append(val_loss)\n",
        "\n",
        "    val_acc = compute_accuracy(X_val, y_val, theta)\n",
        "    val_batch_accs.append(val_acc)\n",
        "\n",
        "  train_batch_loss = builtins.sum(train_batch_losses) / len(train_batch_losses)\n",
        "\n",
        "  val_batch_loss = builtins.sum(val_batch_losses) / len(val_batch_losses)\n",
        "\n",
        "  train_batch_acc = builtins.sum(train_batch_accs) / len(train_batch_accs)\n",
        "\n",
        "  val_batch_acc = builtins.sum(val_batch_accs) / len(val_batch_accs)\n",
        "\n",
        "  train_losses.append(train_batch_loss)\n",
        "  val_losses.append(val_batch_loss)\n",
        "  train_accs.append(train_batch_acc)\n",
        "  val_accs.append(val_batch_acc)\n",
        "\n",
        "  print(f'\\nEPOCH {epoch+1}:\\tTraining loss: {train_batch_loss:.3f}\\tValidation loss: {val_batch_loss:.3}')\n",
        "\n"
      ],
      "metadata": {
        "colab": {
          "base_uri": "https://localhost:8080/"
        },
        "id": "fOZDfhAQZ5si",
        "outputId": "76fcc235-e306-443d-a4ed-edfb41dfba75"
      },
      "execution_count": null,
      "outputs": [
        {
          "output_type": "stream",
          "name": "stdout",
          "text": [
            "\n",
            "EPOCH 1:\tTraining loss: 0.411\tValidation loss: 0.525\n",
            "\n",
            "EPOCH 2:\tTraining loss: 0.411\tValidation loss: 0.525\n",
            "\n",
            "EPOCH 3:\tTraining loss: 0.411\tValidation loss: 0.525\n",
            "\n",
            "EPOCH 4:\tTraining loss: 0.411\tValidation loss: 0.525\n",
            "\n",
            "EPOCH 5:\tTraining loss: 0.411\tValidation loss: 0.525\n",
            "\n",
            "EPOCH 6:\tTraining loss: 0.411\tValidation loss: 0.525\n",
            "\n",
            "EPOCH 7:\tTraining loss: 0.411\tValidation loss: 0.525\n",
            "\n",
            "EPOCH 8:\tTraining loss: 0.411\tValidation loss: 0.525\n",
            "\n",
            "EPOCH 9:\tTraining loss: 0.411\tValidation loss: 0.525\n",
            "\n",
            "EPOCH 10:\tTraining loss: 0.411\tValidation loss: 0.525\n",
            "\n",
            "EPOCH 11:\tTraining loss: 0.411\tValidation loss: 0.525\n",
            "\n",
            "EPOCH 12:\tTraining loss: 0.411\tValidation loss: 0.525\n",
            "\n",
            "EPOCH 13:\tTraining loss: 0.411\tValidation loss: 0.525\n",
            "\n",
            "EPOCH 14:\tTraining loss: 0.411\tValidation loss: 0.525\n",
            "\n",
            "EPOCH 15:\tTraining loss: 0.411\tValidation loss: 0.525\n",
            "\n",
            "EPOCH 16:\tTraining loss: 0.411\tValidation loss: 0.525\n",
            "\n",
            "EPOCH 17:\tTraining loss: 0.411\tValidation loss: 0.525\n",
            "\n",
            "EPOCH 18:\tTraining loss: 0.411\tValidation loss: 0.525\n",
            "\n",
            "EPOCH 19:\tTraining loss: 0.411\tValidation loss: 0.525\n",
            "\n",
            "EPOCH 20:\tTraining loss: 0.411\tValidation loss: 0.525\n",
            "\n",
            "EPOCH 21:\tTraining loss: 0.411\tValidation loss: 0.525\n",
            "\n",
            "EPOCH 22:\tTraining loss: 0.411\tValidation loss: 0.525\n",
            "\n",
            "EPOCH 23:\tTraining loss: 0.411\tValidation loss: 0.525\n",
            "\n",
            "EPOCH 24:\tTraining loss: 0.411\tValidation loss: 0.525\n",
            "\n",
            "EPOCH 25:\tTraining loss: 0.411\tValidation loss: 0.525\n",
            "\n",
            "EPOCH 26:\tTraining loss: 0.411\tValidation loss: 0.525\n",
            "\n",
            "EPOCH 27:\tTraining loss: 0.411\tValidation loss: 0.525\n",
            "\n",
            "EPOCH 28:\tTraining loss: 0.411\tValidation loss: 0.525\n",
            "\n",
            "EPOCH 29:\tTraining loss: 0.411\tValidation loss: 0.525\n",
            "\n",
            "EPOCH 30:\tTraining loss: 0.411\tValidation loss: 0.525\n",
            "\n",
            "EPOCH 31:\tTraining loss: 0.411\tValidation loss: 0.525\n",
            "\n",
            "EPOCH 32:\tTraining loss: 0.411\tValidation loss: 0.525\n",
            "\n",
            "EPOCH 33:\tTraining loss: 0.411\tValidation loss: 0.525\n",
            "\n",
            "EPOCH 34:\tTraining loss: 0.411\tValidation loss: 0.525\n",
            "\n",
            "EPOCH 35:\tTraining loss: 0.411\tValidation loss: 0.525\n",
            "\n",
            "EPOCH 36:\tTraining loss: 0.411\tValidation loss: 0.525\n",
            "\n",
            "EPOCH 37:\tTraining loss: 0.411\tValidation loss: 0.525\n",
            "\n",
            "EPOCH 38:\tTraining loss: 0.411\tValidation loss: 0.525\n",
            "\n",
            "EPOCH 39:\tTraining loss: 0.411\tValidation loss: 0.525\n",
            "\n",
            "EPOCH 40:\tTraining loss: 0.411\tValidation loss: 0.525\n",
            "\n",
            "EPOCH 41:\tTraining loss: 0.411\tValidation loss: 0.525\n",
            "\n",
            "EPOCH 42:\tTraining loss: 0.411\tValidation loss: 0.525\n",
            "\n",
            "EPOCH 43:\tTraining loss: 0.411\tValidation loss: 0.525\n",
            "\n",
            "EPOCH 44:\tTraining loss: 0.411\tValidation loss: 0.525\n",
            "\n",
            "EPOCH 45:\tTraining loss: 0.411\tValidation loss: 0.525\n",
            "\n",
            "EPOCH 46:\tTraining loss: 0.411\tValidation loss: 0.525\n",
            "\n",
            "EPOCH 47:\tTraining loss: 0.411\tValidation loss: 0.525\n",
            "\n",
            "EPOCH 48:\tTraining loss: 0.411\tValidation loss: 0.525\n",
            "\n",
            "EPOCH 49:\tTraining loss: 0.411\tValidation loss: 0.525\n",
            "\n",
            "EPOCH 50:\tTraining loss: 0.411\tValidation loss: 0.525\n",
            "\n",
            "EPOCH 51:\tTraining loss: 0.411\tValidation loss: 0.525\n",
            "\n",
            "EPOCH 52:\tTraining loss: 0.411\tValidation loss: 0.525\n",
            "\n",
            "EPOCH 53:\tTraining loss: 0.411\tValidation loss: 0.525\n",
            "\n",
            "EPOCH 54:\tTraining loss: 0.411\tValidation loss: 0.525\n",
            "\n",
            "EPOCH 55:\tTraining loss: 0.411\tValidation loss: 0.525\n",
            "\n",
            "EPOCH 56:\tTraining loss: 0.411\tValidation loss: 0.525\n",
            "\n",
            "EPOCH 57:\tTraining loss: 0.411\tValidation loss: 0.525\n",
            "\n",
            "EPOCH 58:\tTraining loss: 0.411\tValidation loss: 0.525\n",
            "\n",
            "EPOCH 59:\tTraining loss: 0.411\tValidation loss: 0.525\n",
            "\n",
            "EPOCH 60:\tTraining loss: 0.411\tValidation loss: 0.525\n",
            "\n",
            "EPOCH 61:\tTraining loss: 0.411\tValidation loss: 0.525\n",
            "\n",
            "EPOCH 62:\tTraining loss: 0.411\tValidation loss: 0.525\n",
            "\n",
            "EPOCH 63:\tTraining loss: 0.411\tValidation loss: 0.525\n",
            "\n",
            "EPOCH 64:\tTraining loss: 0.411\tValidation loss: 0.525\n",
            "\n",
            "EPOCH 65:\tTraining loss: 0.411\tValidation loss: 0.525\n",
            "\n",
            "EPOCH 66:\tTraining loss: 0.411\tValidation loss: 0.525\n",
            "\n",
            "EPOCH 67:\tTraining loss: 0.411\tValidation loss: 0.525\n",
            "\n",
            "EPOCH 68:\tTraining loss: 0.411\tValidation loss: 0.525\n",
            "\n",
            "EPOCH 69:\tTraining loss: 0.411\tValidation loss: 0.525\n",
            "\n",
            "EPOCH 70:\tTraining loss: 0.411\tValidation loss: 0.525\n",
            "\n",
            "EPOCH 71:\tTraining loss: 0.411\tValidation loss: 0.525\n",
            "\n",
            "EPOCH 72:\tTraining loss: 0.411\tValidation loss: 0.525\n",
            "\n",
            "EPOCH 73:\tTraining loss: 0.411\tValidation loss: 0.525\n",
            "\n",
            "EPOCH 74:\tTraining loss: 0.411\tValidation loss: 0.525\n",
            "\n",
            "EPOCH 75:\tTraining loss: 0.411\tValidation loss: 0.525\n",
            "\n",
            "EPOCH 76:\tTraining loss: 0.411\tValidation loss: 0.525\n",
            "\n",
            "EPOCH 77:\tTraining loss: 0.411\tValidation loss: 0.525\n",
            "\n",
            "EPOCH 78:\tTraining loss: 0.411\tValidation loss: 0.525\n",
            "\n",
            "EPOCH 79:\tTraining loss: 0.411\tValidation loss: 0.525\n",
            "\n",
            "EPOCH 80:\tTraining loss: 0.411\tValidation loss: 0.525\n",
            "\n",
            "EPOCH 81:\tTraining loss: 0.411\tValidation loss: 0.525\n",
            "\n",
            "EPOCH 82:\tTraining loss: 0.411\tValidation loss: 0.525\n",
            "\n",
            "EPOCH 83:\tTraining loss: 0.411\tValidation loss: 0.525\n",
            "\n",
            "EPOCH 84:\tTraining loss: 0.411\tValidation loss: 0.525\n",
            "\n",
            "EPOCH 85:\tTraining loss: 0.411\tValidation loss: 0.525\n",
            "\n",
            "EPOCH 86:\tTraining loss: 0.411\tValidation loss: 0.525\n",
            "\n",
            "EPOCH 87:\tTraining loss: 0.411\tValidation loss: 0.525\n",
            "\n",
            "EPOCH 88:\tTraining loss: 0.411\tValidation loss: 0.525\n",
            "\n",
            "EPOCH 89:\tTraining loss: 0.411\tValidation loss: 0.525\n",
            "\n",
            "EPOCH 90:\tTraining loss: 0.411\tValidation loss: 0.525\n",
            "\n",
            "EPOCH 91:\tTraining loss: 0.411\tValidation loss: 0.525\n",
            "\n",
            "EPOCH 92:\tTraining loss: 0.411\tValidation loss: 0.525\n",
            "\n",
            "EPOCH 93:\tTraining loss: 0.411\tValidation loss: 0.525\n",
            "\n",
            "EPOCH 94:\tTraining loss: 0.411\tValidation loss: 0.525\n",
            "\n",
            "EPOCH 95:\tTraining loss: 0.411\tValidation loss: 0.525\n",
            "\n",
            "EPOCH 96:\tTraining loss: 0.411\tValidation loss: 0.525\n",
            "\n",
            "EPOCH 97:\tTraining loss: 0.411\tValidation loss: 0.525\n",
            "\n",
            "EPOCH 98:\tTraining loss: 0.411\tValidation loss: 0.525\n",
            "\n",
            "EPOCH 99:\tTraining loss: 0.411\tValidation loss: 0.525\n",
            "\n",
            "EPOCH 100:\tTraining loss: 0.411\tValidation loss: 0.525\n"
          ]
        }
      ]
    },
    {
      "cell_type": "code",
      "source": [
        "#fig, ax = plt.subplots(2, 2, figsize(12,10))\n",
        "fig, ax = plt.subplots(2, 2)\n",
        "ax[0, 0].plot(train_losses)\n",
        "ax[0, 0].set(xlabel='Epochs', ylabel='Loss')\n",
        "ax[0, 0].set_title('Training Loss')\n",
        "\n",
        "ax[0, 1].plot(val_losses, 'orange')\n",
        "ax[0, 1].set(xlabel='Epoch', ylabel='Loss')\n",
        "ax[0, 1].set_title('Validation Loss')\n",
        "\n",
        "ax[1, 0].plot(train_accs)\n",
        "ax[1, 0].set(xlabel='Epoch', ylabel='Accuracy')\n",
        "ax[1, 0].set_title('Training Accuracy')\n",
        "\n",
        "ax[1, 1].plot(val_accs, 'orange')\n",
        "ax[1, 1].set(xlabel='Epoch', ylabel='Accuracy')\n",
        "ax[1, 1].set_title('Validation Accuracy')\n",
        "\n",
        "plt.show()"
      ],
      "metadata": {
        "colab": {
          "base_uri": "https://localhost:8080/",
          "height": 487
        },
        "id": "JtMAgAUnjDCz",
        "outputId": "4eb5dfba-cffd-418b-83c8-b3c023eac5fe"
      },
      "execution_count": null,
      "outputs": [
        {
          "output_type": "display_data",
          "data": {
            "text/plain": [
              "<Figure size 640x480 with 4 Axes>"
            ],
            "image/png": "[encoded data removed]"
          },
          "metadata": {}
        }
      ]
    },
    {
      "cell_type": "code",
      "source": [
        "val_set_acc = compute_accuracy(X_val, y_val, theta)\n",
        "test_set_acc = compute_accuracy(X_test, y_test, theta)\n",
        "\n",
        "\n",
        "print(f'Evaluation on validation and test set:')\n",
        "print(f'Accuracy: {val_set_acc}')\n",
        "print(f'Accuracy: {test_set_acc}')"
      ],
      "metadata": {
        "colab": {
          "base_uri": "https://localhost:8080/"
        },
        "id": "bXdpDHXUjok3",
        "outputId": "fc13bed8-27fd-4e88-b5ba-5ec2ff01ce67"
      },
      "execution_count": null,
      "outputs": [
        {
          "output_type": "stream",
          "name": "stdout",
          "text": [
            "Evaluation on validation and test set:\n",
            "Accuracy: 0.776536312849162\n",
            "Accuracy: 0.7865168539325843\n"
          ]
        }
      ]
    },
    {
      "cell_type": "code",
      "source": [
        "import numpy as np\n",
        "\n",
        "# Câu 13\n",
        "X = np.array([[22.3, -1.5, 1.1, 1]])\n",
        "theta = np.array([0.1, -0.15, 0.3, -0.2])\n",
        "\n",
        "def predict(X, theta):\n",
        "    z = np.dot(X, theta)\n",
        "    return 1 / (1 + np.exp(-z))\n",
        "\n",
        "result = predict(X, theta)\n",
        "print(result)"
      ],
      "metadata": {
        "colab": {
          "base_uri": "https://localhost:8080/"
        },
        "id": "lBWRMNWofbt8",
        "outputId": "38d557d0-87fb-4126-9ff9-ab0c51d639c8"
      },
      "execution_count": 2,
      "outputs": [
        {
          "output_type": "stream",
          "name": "stdout",
          "text": [
            "[0.92988994]\n"
          ]
        }
      ]
    },
    {
      "cell_type": "code",
      "source": [
        "# Câu 14\n",
        "y = np.array([1, 0, 0, 1])\n",
        "y_hat = np.array([0.8, 0.75, 0.3, 0.95])\n",
        "\n",
        "def compute_loss(y_hat, y):\n",
        "    y_hat = np.clip(y_hat, 1e-7, 1-1e-7)\n",
        "    return (-y * np.log(y_hat) - (1 - y) * np.log(1 - y_hat)).mean()\n",
        "\n",
        "loss = compute_loss(y_hat, y)\n",
        "print(round(loss, 3))"
      ],
      "metadata": {
        "colab": {
          "base_uri": "https://localhost:8080/"
        },
        "id": "PF2rrV5bf9PK",
        "outputId": "2a9e6651-724c-4e60-c0dc-fb03de7637ab"
      },
      "execution_count": 3,
      "outputs": [
        {
          "output_type": "stream",
          "name": "stdout",
          "text": [
            "0.504\n"
          ]
        }
      ]
    },
    {
      "cell_type": "code",
      "source": [
        "X = np.array([[1, 3], [2, 1], [3, 2], [1, 2]])\n",
        "y_true = np.array([1, 0, 1, 1])\n",
        "y_pred = np.array([0.7, 0.4,\n",
        "0.6, 0.85])\n",
        "\n",
        "def compute_gradient(X, y_true, y_pred):\n",
        "    gradient = np.dot(X.T, (y_pred - y_true)) / y_true.size\n",
        "    return gradient\n",
        "\n",
        "result = compute_gradient(X, y_true, y_pred)\n",
        "print(result)\n"
      ],
      "metadata": {
        "colab": {
          "base_uri": "https://localhost:8080/"
        },
        "id": "VODH3-VRhQtq",
        "outputId": "697c80aa-ae4c-4e27-bae3-b68fce57f7fb"
      },
      "execution_count": 7,
      "outputs": [
        {
          "output_type": "stream",
          "name": "stdout",
          "text": [
            "[-0.2125 -0.4   ]\n"
          ]
        }
      ]
    },
    {
      "cell_type": "code",
      "source": [
        "y_true = [1, 0, 1, 1]\n",
        "y_pred = [0.85, 0.35, 0.9, 0.75]\n",
        "\n",
        "def compute_accuracy (y_true , y_pred ) :\n",
        " y_pred_rounded = np. round ( y_pred )\n",
        " accuracy = np. mean ( y_true == y_pred_rounded )\n",
        "\n",
        " return accuracy\n",
        "print(compute_accuracy(y_true, y_pred))"
      ],
      "metadata": {
        "colab": {
          "base_uri": "https://localhost:8080/"
        },
        "id": "51IE29NxiDwp",
        "outputId": "23ef3f1e-8bb7-4141-bb51-bf0bcd770bac"
      },
      "execution_count": 6,
      "outputs": [
        {
          "output_type": "stream",
          "name": "stdout",
          "text": [
            "1.0\n"
          ]
        }
      ]
    }
  ]
}